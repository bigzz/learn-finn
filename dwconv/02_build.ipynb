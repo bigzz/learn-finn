{
 "cells": [
  {
   "cell_type": "code",
   "execution_count": 16,
   "id": "7768100a",
   "metadata": {},
   "outputs": [],
   "source": [
    "import finn.builder.build_dataflow as build\n",
    "import finn.builder.build_dataflow_config as build_cfg\n",
    "import os\n",
    "import shutil"
   ]
  },
  {
   "cell_type": "code",
   "execution_count": 17,
   "id": "023841ec",
   "metadata": {},
   "outputs": [],
   "source": [
    "from finn.core.modelwrapper import ModelWrapper\n",
    "from finn.builder.build_dataflow_config import (\n",
    "    DataflowBuildConfig,\n",
    "    ShellFlowType,\n",
    ")\n",
    "from finn.transformation.streamline import Streamline\n",
    "from finn.transformation.streamline.reorder import MakeMaxPoolNHWC\n",
    "from finn.transformation.double_to_single_float import DoubleToSingleFloat\n",
    "import finn.transformation.streamline.absorb as absorb\n",
    "import finn.transformation.streamline.reorder as reorder\n",
    "from finn.transformation.infer_data_layouts import InferDataLayouts\n",
    "from finn.transformation.fold_constants import FoldConstants\n",
    "from finn.transformation.streamline.collapse_repeated import CollapseRepeatedMul\n",
    "from finn.transformation.remove import RemoveIdentityOps\n",
    "from finn.transformation.streamline.round_thresholds import RoundAndClipThresholds\n",
    "from finn.transformation.lower_convs_to_matmul import LowerConvsToMatMul\n",
    "from finn.transformation.general import (\n",
    "    GiveReadableTensorNames,\n",
    "    GiveUniqueNodeNames,\n",
    "    GiveUniqueParameterTensors,\n",
    "    RemoveUnusedTensors,\n",
    ")\n",
    "import finn.transformation.fpgadataflow.convert_to_hls_layers as to_hls\n",
    "from finn.transformation.infer_shapes import InferShapes\n",
    "from finn.transformation.change_datalayout import ChangeDataLayoutQuantAvgPool2d\n",
    "from finn.transformation.infer_data_layouts import InferDataLayouts\n",
    "from finn.transformation.infer_datatypes import InferDataTypes\n",
    "from finn.transformation.insert_topk import InsertTopK"
   ]
  },
  {
   "cell_type": "code",
   "execution_count": 18,
   "id": "e9883a7e",
   "metadata": {},
   "outputs": [],
   "source": [
    "os.environ[\"FINN_BUILD_DIR\"]=\"./build\"\n",
    "\n",
    "model_name = \"dwconv_test-ready\"\n",
    "\n",
    "# which platforms to build the networks for\n",
    "platform_name = \"ZCU104\""
   ]
  },
  {
   "cell_type": "code",
   "execution_count": 19,
   "id": "19fa668d",
   "metadata": {},
   "outputs": [],
   "source": [
    "# select target clock frequency\n",
    "def select_clk_period(platform):\n",
    "    return 5.4"
   ]
  },
  {
   "cell_type": "markdown",
   "id": "2e448023",
   "metadata": {},
   "source": [
    "### **Customize in the following steps**\n",
    "\n",
    "- define ownerself step\n",
    "- add to ```select_build_steps```\n",
    "- recall ```build_dataflow_cfg```\n",
    "\n",
    "*If we want to start with a particular step，set ```start_step ``` *\n"
   ]
  },
  {
   "cell_type": "code",
   "execution_count": 20,
   "id": "71354647",
   "metadata": {},
   "outputs": [],
   "source": [
    "def step_mobilenet_tidy(model: ModelWrapper, cfg: DataflowBuildConfig):\n",
    "    model = model.transform(InferShapes())\n",
    "    model = model.transform(FoldConstants())\n",
    "    #model = model.transform(InsertTopK())\n",
    "    #model = model.transform(absorb.AbsorbScalarMulAddIntoTopK())\n",
    "    model = model.transform(InferShapes())\n",
    "    model = model.transform(InferDataTypes())\n",
    "    model = model.transform(InferDataLayouts())\n",
    "    model = model.transform(GiveUniqueNodeNames())\n",
    "    model = model.transform(GiveUniqueParameterTensors())\n",
    "    model = model.transform(GiveReadableTensorNames())\n",
    "    return model"
   ]
  },
  {
   "cell_type": "code",
   "execution_count": 21,
   "id": "8dc7d2c9",
   "metadata": {},
   "outputs": [],
   "source": [
    "def step_mobilenet_streamline(model: ModelWrapper, cfg: DataflowBuildConfig):\n",
    "    model = model.transform(Streamline())\n",
    "    additional_streamline_transformations = [\n",
    "        DoubleToSingleFloat(),\n",
    "        reorder.MoveMulPastDWConv(),\n",
    "        absorb.AbsorbMulIntoMultiThreshold(),\n",
    "        ChangeDataLayoutQuantAvgPool2d(),\n",
    "        InferDataLayouts(),\n",
    "        reorder.MoveTransposePastScalarMul(),\n",
    "        absorb.AbsorbTransposeIntoFlatten(),\n",
    "        reorder.MoveFlattenPastAffine(),\n",
    "        reorder.MoveFlattenPastTopK(),\n",
    "        reorder.MoveScalarMulPastMatMul(),\n",
    "        CollapseRepeatedMul(),\n",
    "        #RemoveIdentityOps(),\n",
    "        RoundAndClipThresholds(),\n",
    "    ]\n",
    "    for trn in additional_streamline_transformations:\n",
    "        model = model.transform(trn)\n",
    "        model = model.transform(GiveUniqueNodeNames())\n",
    "        model = model.transform(GiveReadableTensorNames())\n",
    "        model = model.transform(InferDataTypes())\n",
    "    return model"
   ]
  },
  {
   "cell_type": "code",
   "execution_count": 22,
   "id": "08f96b26",
   "metadata": {},
   "outputs": [],
   "source": [
    "def step_mobilenet_lower_convs(model: ModelWrapper, cfg: DataflowBuildConfig):\n",
    "    model = model.transform(LowerConvsToMatMul())\n",
    "    model = model.transform(MakeMaxPoolNHWC())\n",
    "    model = model.transform(absorb.AbsorbTransposeIntoMultiThreshold())\n",
    "    model = model.transform(MakeMaxPoolNHWC())\n",
    "    model = model.transform(absorb.AbsorbConsecutiveTransposes())\n",
    "    model = model.transform(GiveUniqueNodeNames())\n",
    "    model = model.transform(GiveReadableTensorNames())\n",
    "    model = model.transform(InferDataTypes())\n",
    "    model = model.transform(RoundAndClipThresholds())\n",
    "    model = model.transform(InferDataLayouts())\n",
    "    return model"
   ]
  },
  {
   "cell_type": "code",
   "execution_count": 23,
   "id": "30c078f1",
   "metadata": {},
   "outputs": [],
   "source": [
    "def step_mobilenet_convert_to_hls_layers(model: ModelWrapper, cfg: DataflowBuildConfig):\n",
    "    mem_mode = cfg.default_mem_mode.value\n",
    "    model = model.transform(to_hls.InferPool_Batch())\n",
    "    model = model.transform(to_hls.InferConvInpGen())\n",
    "    model = model.transform(to_hls.InferVVAU())\n",
    "    model = model.transform(to_hls.InferQuantizedStreamingFCLayer(mem_mode))\n",
    "    model = model.transform(to_hls.InferChannelwiseLinearLayer())\n",
    "    model = model.transform(to_hls.InferLabelSelectLayer())\n",
    "    model = model.transform(InferShapes())\n",
    "    model = model.transform(GiveUniqueNodeNames())\n",
    "    model = model.transform(GiveReadableTensorNames())\n",
    "    return model"
   ]
  },
  {
   "cell_type": "code",
   "execution_count": 24,
   "id": "b9eca962",
   "metadata": {},
   "outputs": [],
   "source": [
    "def step_mobilenet_slr_floorplan(model: ModelWrapper, cfg: DataflowBuildConfig):\n",
    "    if cfg.shell_flow_type == ShellFlowType.VITIS_ALVEO:\n",
    "        try:\n",
    "            from finn.analysis.partitioning import partition\n",
    "            # apply partitioning of the model, restricting the first and last layers to SLR0\n",
    "            default_slr = 0\n",
    "            abs_anchors = [(0,[default_slr]),(-1,[default_slr])]\n",
    "            floorplan = partition(model, cfg.synth_clk_period_ns, cfg.board, abs_anchors=abs_anchors, multivariant=False)[0]\n",
    "            # apply floorplan to model\n",
    "            model = model.transform(ApplyConfig(floorplan))\n",
    "            print(\"SLR floorplanning applied\")\n",
    "        except:\n",
    "            print(\"No SLR floorplanning applied\")\n",
    "    return model"
   ]
  },
  {
   "cell_type": "code",
   "execution_count": 25,
   "id": "41662740",
   "metadata": {},
   "outputs": [],
   "source": [
    "def step_mobilenet_convert_to_hls_layers_separate_th(\n",
    "    model: ModelWrapper, cfg: DataflowBuildConfig\n",
    "):\n",
    "    mem_mode = cfg.default_mem_mode.value\n",
    "    model = model.transform(to_hls.InferPool_Batch())\n",
    "    model = model.transform(to_hls.InferConvInpGen())\n",
    "    model = model.transform(to_hls.InferThresholdingLayer())\n",
    "    model = model.transform(to_hls.InferVVAU())\n",
    "    model = model.transform(to_hls.InferQuantizedStreamingFCLayer(mem_mode))\n",
    "    model = model.transform(to_hls.InferChannelwiseLinearLayer())\n",
    "    model = model.transform(to_hls.InferLabelSelectLayer())\n",
    "    model = model.transform(InferShapes())\n",
    "    model = model.transform(GiveUniqueNodeNames())\n",
    "    model = model.transform(GiveReadableTensorNames())\n",
    "    return model"
   ]
  },
  {
   "cell_type": "markdown",
   "id": "d600710f",
   "metadata": {},
   "source": [
    "### default support steps\n",
    "#### PATH: finn/src/finn/builder/build_dataflow_steps.py\n",
    "\n",
    "```python\n",
    "build_dataflow_step_lookup = {\n",
    "    \"step_qonnx_to_finn\": step_qonnx_to_finn,\n",
    "    \"step_tidy_up\": step_tidy_up,\n",
    "    \"step_streamline\": step_streamline,\n",
    "    \"step_convert_to_hls\": step_convert_to_hls,\n",
    "    \"step_create_dataflow_partition\": step_create_dataflow_partition,\n",
    "    \"step_target_fps_parallelization\": step_target_fps_parallelization,\n",
    "    \"step_apply_folding_config\": step_apply_folding_config,\n",
    "    \"step_generate_estimate_reports\": step_generate_estimate_reports,\n",
    "    \"step_hls_codegen\": step_hls_codegen,\n",
    "    \"step_hls_ipgen\": step_hls_ipgen,\n",
    "    \"step_set_fifo_depths\": step_set_fifo_depths,\n",
    "    \"step_create_stitched_ip\": step_create_stitched_ip,\n",
    "    \"step_measure_rtlsim_performance\": step_measure_rtlsim_performance,\n",
    "    \"step_make_pynq_driver\": step_make_pynq_driver,\n",
    "    \"step_out_of_context_synthesis\": step_out_of_context_synthesis,\n",
    "    \"step_synthesize_bitfile\": step_synthesize_bitfile,\n",
    "    \"step_deployment_package\": step_deployment_package,\n",
    "}\n",
    "```"
   ]
  },
  {
   "cell_type": "code",
   "execution_count": 26,
   "id": "206aee3e",
   "metadata": {},
   "outputs": [],
   "source": [
    "def select_build_steps(platform):\n",
    "    return [\n",
    "        step_mobilenet_tidy,\n",
    "        step_mobilenet_streamline,\n",
    "        step_mobilenet_lower_convs,\n",
    "        step_mobilenet_convert_to_hls_layers_separate_th,\n",
    "        \"step_create_dataflow_partition\",\n",
    "        \"step_apply_folding_config\",\n",
    "        \"step_generate_estimate_reports\",\n",
    "        \"step_hls_codegen\",\n",
    "        \"step_hls_ipgen\",\n",
    "        \"step_set_fifo_depths\",\n",
    "        \"step_create_stitched_ip\",\n",
    "        \"step_synthesize_bitfile\",\n",
    "        \"step_make_pynq_driver\",\n",
    "        \"step_deployment_package\",\n",
    "    ]"
   ]
  },
  {
   "cell_type": "markdown",
   "id": "9d7b5af7",
   "metadata": {},
   "source": [
    "#### Just run some special steps:\n",
    "\n",
    "```\n",
    "    #: If given, start from this step, loading the intermediate model generated\n",
    "    #: from the previous step (save_intermediate_models must be enabled)\n",
    "    start_step: Optional[str] = None\n",
    "\n",
    "    #: If given, stop at this step.\n",
    "    stop_step: Optional[str] = None\n",
    "```"
   ]
  },
  {
   "cell_type": "code",
   "execution_count": 29,
   "id": "1fa501f0",
   "metadata": {},
   "outputs": [],
   "source": [
    "# start_step = 'step_mobilenet_tidy' \n",
    "# stop_step =  'step_mobilenet_convert_to_hls_layers_separate_th'\n",
    "\n",
    "# start run step, can not set the first step.\n",
    "#def_start_step = None \n",
    "def_start_step = 'step_mobilenet_streamline'\n",
    "\n",
    "# stop run step, can be set the same with start step, it will just run one step.\n",
    "#def_stop_step= None\n",
    "def_stop_step =  'step_mobilenet_streamline'"
   ]
  },
  {
   "cell_type": "code",
   "execution_count": 30,
   "id": "b1ea8e34",
   "metadata": {},
   "outputs": [
    {
     "name": "stdout",
     "output_type": "stream",
     "text": [
      "Building dataflow accelerator from intermediate checkpointoutput_dwconv_test-ready_['ZCU104']/intermediate_models/step_mobilenet_tidy.onnx\n",
      "Intermediate outputs will be generated in ./build\n",
      "Final outputs will be generated in output_dwconv_test-ready_['ZCU104']\n",
      "Build log is at output_dwconv_test-ready_['ZCU104']/build_dataflow.log\n",
      "Running step: step_mobilenet_streamline [1/1]\n",
      "Completed successfully\n"
     ]
    },
    {
     "data": {
      "text/plain": [
       "0"
      ]
     },
     "execution_count": 30,
     "metadata": {},
     "output_type": "execute_result"
    }
   ],
   "source": [
    "shell_flow_type = build_cfg.ShellFlowType.VIVADO_ZYNQ\n",
    "vitis_platform = None\n",
    "# for Zynq, use the board name as the release name\n",
    "# e.g. ZCU104\n",
    "release_platform_name = platform_name\n",
    "platform_dir = \"release/%s\" % release_platform_name\n",
    "os.makedirs(platform_dir, exist_ok=True)\n",
    "\n",
    "cfg = build_cfg.DataflowBuildConfig(\n",
    "    steps=select_build_steps(platform_name),\n",
    "    start_step=def_start_step,\n",
    "    stop_step=def_stop_step,\n",
    "    output_dir=\"output_%s_%s\" % (model_name, release_platform_name),\n",
    "    folding_config_file=\"folding_config/%s_folding_config.json\" % platform_name,\n",
    "    synth_clk_period_ns=select_clk_period(platform_name),\n",
    "    board=platform_name,\n",
    "    shell_flow_type=shell_flow_type,\n",
    "    vitis_platform=vitis_platform,\n",
    "    # folding config comes with FIFO depths already\n",
    "    auto_fifo_depths=False,\n",
    "    # enable extra performance optimizations (physopt)\n",
    "    vitis_opt_strategy=build_cfg.VitisOptStrategyCfg.PERFORMANCE_BEST,\n",
    "    generate_outputs=[\n",
    "        build_cfg.DataflowOutputType.PYNQ_DRIVER,\n",
    "        build_cfg.DataflowOutputType.ESTIMATE_REPORTS,\n",
    "        build_cfg.DataflowOutputType.BITFILE,\n",
    "        build_cfg.DataflowOutputType.DEPLOYMENT_PACKAGE,\n",
    "    ],\n",
    ")\n",
    "model_file = \"./models/%s.onnx\" % model_name\n",
    "build.build_dataflow_cfg(model_file, cfg)"
   ]
  },
  {
   "cell_type": "code",
   "execution_count": null,
   "id": "cc3dc2c1",
   "metadata": {},
   "outputs": [],
   "source": []
  }
 ],
 "metadata": {
  "kernelspec": {
   "display_name": "Python 3 (ipykernel)",
   "language": "python",
   "name": "python3"
  },
  "language_info": {
   "codemirror_mode": {
    "name": "ipython",
    "version": 3
   },
   "file_extension": ".py",
   "mimetype": "text/x-python",
   "name": "python",
   "nbconvert_exporter": "python",
   "pygments_lexer": "ipython3",
   "version": "3.9.7"
  }
 },
 "nbformat": 4,
 "nbformat_minor": 5
}
